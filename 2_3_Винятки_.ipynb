{
  "cells": [
    {
      "cell_type": "markdown",
      "metadata": {
        "id": "view-in-github",
        "colab_type": "text"
      },
      "source": [
        "<a href=\"https://colab.research.google.com/github/YuliiaUtkina/Git_modul_pyhton/blob/main/2_3_%D0%92%D0%B8%D0%BD%D1%8F%D1%82%D0%BA%D0%B8_.ipynb\" target=\"_parent\"><img src=\"https://colab.research.google.com/assets/colab-badge.svg\" alt=\"Open In Colab\"/></a>"
      ]
    },
    {
      "cell_type": "markdown",
      "id": "1561554f",
      "metadata": {
        "id": "1561554f"
      },
      "source": [
        "# Домашнє завдання до теми \"Exceptions\""
      ]
    },
    {
      "cell_type": "markdown",
      "source": [
        "\n",
        "\n",
        "1. **Конвертер стрічки в число**\n",
        "\n",
        "  **Опис завдання:**\n",
        "\n",
        "  Створіть функцію `string_to_int`, яка приймає рядок і намагається перетворити його в ціле число. Якщо рядок не можна перетворити на ціле число, функція повинна повертати `None` і генерувати виключення `\"Некоректне введення\"`.\n",
        "\n",
        "  **Приклади виклику функції:**\n",
        "\n",
        "  - `string_to_int(\"123\")` повинно повернути `123`.\n",
        "  - `string_to_int(\"abc\")` повинно повернути `None` і вивести виключення `\"Некоректне введення\"`."
      ],
      "metadata": {
        "id": "iBHEcmV7R34X"
      },
      "id": "iBHEcmV7R34X"
    },
    {
      "cell_type": "code",
      "source": [
        "def string_to_int(x: str):\n",
        "  try:\n",
        "      return int(x)\n",
        "  except ValueError:\n",
        "      print (\"Некоректне введення\") # друкуємо текст\n",
        "      return None"
      ],
      "metadata": {
        "id": "ogV21XZP4L6u"
      },
      "id": "ogV21XZP4L6u",
      "execution_count": 45,
      "outputs": []
    },
    {
      "cell_type": "code",
      "source": [
        "def string_to_int(x: str):\n",
        "  try:\n",
        "      return int(x)\n",
        "  except ValueError:\n",
        "      return (\"Некоректне введення\")  # повертаємо текст/помилку\n",
        "      return None"
      ],
      "metadata": {
        "id": "5UT2YNrISdLR"
      },
      "execution_count": 34,
      "outputs": [],
      "id": "5UT2YNrISdLR"
    },
    {
      "cell_type": "code",
      "source": [
        "def string_to_int(x: str):\n",
        "  try:\n",
        "      return int(x)\n",
        "  except ValueError:\n",
        "      return (None, 'Некоректне введення')\n",
        ""
      ],
      "metadata": {
        "id": "QVf8YllO4-Pm"
      },
      "id": "QVf8YllO4-Pm",
      "execution_count": 47,
      "outputs": []
    },
    {
      "cell_type": "code",
      "source": [
        "string_to_int(\"123\")"
      ],
      "metadata": {
        "colab": {
          "base_uri": "https://localhost:8080/"
        },
        "id": "2pgeBOz2aN2B",
        "outputId": "58db834b-651f-4b73-fa66-ba44c1f5cf58"
      },
      "id": "2pgeBOz2aN2B",
      "execution_count": 48,
      "outputs": [
        {
          "output_type": "execute_result",
          "data": {
            "text/plain": [
              "123"
            ]
          },
          "metadata": {},
          "execution_count": 48
        }
      ]
    },
    {
      "cell_type": "code",
      "source": [
        "string_to_int(\"abc\")"
      ],
      "metadata": {
        "colab": {
          "base_uri": "https://localhost:8080/"
        },
        "id": "-WkY3B9WrOy6",
        "outputId": "d357aa5c-fc8e-4df9-b0cc-d9374cda7134"
      },
      "id": "-WkY3B9WrOy6",
      "execution_count": 49,
      "outputs": [
        {
          "output_type": "execute_result",
          "data": {
            "text/plain": [
              "(None, 'Некоректне введення')"
            ]
          },
          "metadata": {},
          "execution_count": 49
        }
      ]
    },
    {
      "cell_type": "markdown",
      "source": [
        "Продемонструйте результати робити функції запустивши код нижче."
      ],
      "metadata": {
        "id": "UbIaPiOHSgE7"
      },
      "id": "UbIaPiOHSgE7"
    },
    {
      "cell_type": "code",
      "source": [
        "test_inputs = [\"123\", \"abc\", \"456.78\", \"100\"]\n",
        "results = {input_value: string_to_int(input_value) for input_value in test_inputs}\n",
        "results\n"
      ],
      "metadata": {
        "id": "AL7sINtwSgcs",
        "colab": {
          "base_uri": "https://localhost:8080/"
        },
        "outputId": "21230fe5-f1b6-486e-be33-91702819349f"
      },
      "execution_count": 46,
      "outputs": [
        {
          "output_type": "stream",
          "name": "stdout",
          "text": [
            "Некоректне введення\n",
            "Некоректне введення\n"
          ]
        },
        {
          "output_type": "execute_result",
          "data": {
            "text/plain": [
              "{'123': 123, 'abc': None, '456.78': None, '100': 100}"
            ]
          },
          "metadata": {},
          "execution_count": 46
        }
      ],
      "id": "AL7sINtwSgcs"
    },
    {
      "cell_type": "markdown",
      "source": [
        "2. **Контроль введення користувача**\n",
        "\n",
        "  Створіть функцію `check_age`, яка приймає на вхід вік користувача у форматі рядок і перевіряє, чи є користувач повнолітнім (18 років і старше). Якщо введене значення не може бути перетворено на ціле число, функція повинна підіймати виняток `\"Некоректне введення. Будь ласка, введіть числове значення.\"` і повертати `False`. Якщо вік користувача менше 18, вивести повідомлення `\"Ви не повнолітній!\"` і також повернути `False`. У випадку, коли вік 18 років або більше, вивести повідомлення `\"Ви повнолітній.\"` і повернути `True`.\n",
        "\n",
        "  **Приклад роботи програми:**\n",
        "\n",
        "  1. Користувач вводить `\"двадцять\"`: програма створює виняток `\"Некоректне введення. Будь ласка, введіть числове значення.\"` і повертає `False`.\n",
        "  2. Користувач вводить `\"17\"`: програма виводить `\"Ви не повнолітній!\"` і повертає `False`.\n",
        "  3. Користувач вводить `\"18\"`: програма виводить `\"Ви повнолітній.\"` і повертає `True`.\n",
        "\n",
        "\n"
      ],
      "metadata": {
        "id": "KkzLp29pQ1-U"
      },
      "id": "KkzLp29pQ1-U"
    },
    {
      "cell_type": "code",
      "source": [
        "def check_age(age_str):\n",
        "    try:\n",
        "        age = int(age_str)  # Перетворюємо введене значення в ціле число\n",
        "        if age < 18:\n",
        "            print(\"Ви не повнолітній!\")\n",
        "            return False\n",
        "        else:\n",
        "            print(\"Ви повнолітній.\")\n",
        "            return True\n",
        "    except ValueError:\n",
        "        raise Exception(\"Некоректне введення. Будь ласка, введіть числове значення.\")"
      ],
      "metadata": {
        "id": "84m1KA6G412l"
      },
      "id": "84m1KA6G412l",
      "execution_count": 65,
      "outputs": []
    },
    {
      "cell_type": "markdown",
      "source": [
        "Продемонструйте результати робити функції запустивши код нижче."
      ],
      "metadata": {
        "id": "huphMh7YR2GJ"
      },
      "id": "huphMh7YR2GJ"
    },
    {
      "cell_type": "code",
      "source": [
        "test_inputs = [\"двадцять\", \"17\", \"18\"]\n",
        "results = [check_age(input_value) for input_value in test_inputs]\n",
        "results"
      ],
      "metadata": {
        "id": "YuEQrntVRgSE",
        "colab": {
          "base_uri": "https://localhost:8080/",
          "height": 367
        },
        "outputId": "b3300173-8378-443b-fc9b-00a7f266dbe1"
      },
      "execution_count": 66,
      "outputs": [
        {
          "output_type": "error",
          "ename": "Exception",
          "evalue": "Некоректне введення. Будь ласка, введіть числове значення.",
          "traceback": [
            "\u001b[0;31m---------------------------------------------------------------------------\u001b[0m",
            "\u001b[0;31mValueError\u001b[0m                                Traceback (most recent call last)",
            "\u001b[0;32m<ipython-input-65-6d751ca6ef37>\u001b[0m in \u001b[0;36mcheck_age\u001b[0;34m(age_str)\u001b[0m\n\u001b[1;32m      2\u001b[0m     \u001b[0;32mtry\u001b[0m\u001b[0;34m:\u001b[0m\u001b[0;34m\u001b[0m\u001b[0;34m\u001b[0m\u001b[0m\n\u001b[0;32m----> 3\u001b[0;31m         \u001b[0mage\u001b[0m \u001b[0;34m=\u001b[0m \u001b[0mint\u001b[0m\u001b[0;34m(\u001b[0m\u001b[0mage_str\u001b[0m\u001b[0;34m)\u001b[0m  \u001b[0;31m# Перетворюємо введене значення в ціле число\u001b[0m\u001b[0;34m\u001b[0m\u001b[0;34m\u001b[0m\u001b[0m\n\u001b[0m\u001b[1;32m      4\u001b[0m         \u001b[0;32mif\u001b[0m \u001b[0mage\u001b[0m \u001b[0;34m<\u001b[0m \u001b[0;36m18\u001b[0m\u001b[0;34m:\u001b[0m\u001b[0;34m\u001b[0m\u001b[0;34m\u001b[0m\u001b[0m\n",
            "\u001b[0;31mValueError\u001b[0m: invalid literal for int() with base 10: 'двадцять'",
            "\nDuring handling of the above exception, another exception occurred:\n",
            "\u001b[0;31mException\u001b[0m                                 Traceback (most recent call last)",
            "\u001b[0;32m<ipython-input-66-af7f62e2a7e4>\u001b[0m in \u001b[0;36m<cell line: 2>\u001b[0;34m()\u001b[0m\n\u001b[1;32m      1\u001b[0m \u001b[0mtest_inputs\u001b[0m \u001b[0;34m=\u001b[0m \u001b[0;34m[\u001b[0m\u001b[0;34m\"двадцять\"\u001b[0m\u001b[0;34m,\u001b[0m \u001b[0;34m\"17\"\u001b[0m\u001b[0;34m,\u001b[0m \u001b[0;34m\"18\"\u001b[0m\u001b[0;34m]\u001b[0m\u001b[0;34m\u001b[0m\u001b[0;34m\u001b[0m\u001b[0m\n\u001b[0;32m----> 2\u001b[0;31m \u001b[0mresults\u001b[0m \u001b[0;34m=\u001b[0m \u001b[0;34m[\u001b[0m\u001b[0mcheck_age\u001b[0m\u001b[0;34m(\u001b[0m\u001b[0minput_value\u001b[0m\u001b[0;34m)\u001b[0m \u001b[0;32mfor\u001b[0m \u001b[0minput_value\u001b[0m \u001b[0;32min\u001b[0m \u001b[0mtest_inputs\u001b[0m\u001b[0;34m]\u001b[0m\u001b[0;34m\u001b[0m\u001b[0;34m\u001b[0m\u001b[0m\n\u001b[0m\u001b[1;32m      3\u001b[0m \u001b[0mresults\u001b[0m\u001b[0;34m\u001b[0m\u001b[0;34m\u001b[0m\u001b[0m\n",
            "\u001b[0;32m<ipython-input-66-af7f62e2a7e4>\u001b[0m in \u001b[0;36m<listcomp>\u001b[0;34m(.0)\u001b[0m\n\u001b[1;32m      1\u001b[0m \u001b[0mtest_inputs\u001b[0m \u001b[0;34m=\u001b[0m \u001b[0;34m[\u001b[0m\u001b[0;34m\"двадцять\"\u001b[0m\u001b[0;34m,\u001b[0m \u001b[0;34m\"17\"\u001b[0m\u001b[0;34m,\u001b[0m \u001b[0;34m\"18\"\u001b[0m\u001b[0;34m]\u001b[0m\u001b[0;34m\u001b[0m\u001b[0;34m\u001b[0m\u001b[0m\n\u001b[0;32m----> 2\u001b[0;31m \u001b[0mresults\u001b[0m \u001b[0;34m=\u001b[0m \u001b[0;34m[\u001b[0m\u001b[0mcheck_age\u001b[0m\u001b[0;34m(\u001b[0m\u001b[0minput_value\u001b[0m\u001b[0;34m)\u001b[0m \u001b[0;32mfor\u001b[0m \u001b[0minput_value\u001b[0m \u001b[0;32min\u001b[0m \u001b[0mtest_inputs\u001b[0m\u001b[0;34m]\u001b[0m\u001b[0;34m\u001b[0m\u001b[0;34m\u001b[0m\u001b[0m\n\u001b[0m\u001b[1;32m      3\u001b[0m \u001b[0mresults\u001b[0m\u001b[0;34m\u001b[0m\u001b[0;34m\u001b[0m\u001b[0m\n",
            "\u001b[0;32m<ipython-input-65-6d751ca6ef37>\u001b[0m in \u001b[0;36mcheck_age\u001b[0;34m(age_str)\u001b[0m\n\u001b[1;32m      9\u001b[0m             \u001b[0;32mreturn\u001b[0m \u001b[0;32mTrue\u001b[0m\u001b[0;34m\u001b[0m\u001b[0;34m\u001b[0m\u001b[0m\n\u001b[1;32m     10\u001b[0m     \u001b[0;32mexcept\u001b[0m \u001b[0mValueError\u001b[0m\u001b[0;34m:\u001b[0m\u001b[0;34m\u001b[0m\u001b[0;34m\u001b[0m\u001b[0m\n\u001b[0;32m---> 11\u001b[0;31m         \u001b[0;32mraise\u001b[0m \u001b[0mException\u001b[0m\u001b[0;34m(\u001b[0m\u001b[0;34m\"Некоректне введення. Будь ласка, введіть числове значення.\"\u001b[0m\u001b[0;34m)\u001b[0m\u001b[0;34m\u001b[0m\u001b[0;34m\u001b[0m\u001b[0m\n\u001b[0m",
            "\u001b[0;31mException\u001b[0m: Некоректне введення. Будь ласка, введіть числове значення."
          ]
        }
      ],
      "id": "YuEQrntVRgSE"
    },
    {
      "cell_type": "code",
      "source": [
        "test_inputs = [\"10\", \"17\", \"56\"]\n",
        "results = [check_age(input_value) for input_value in test_inputs]\n",
        "results"
      ],
      "metadata": {
        "colab": {
          "base_uri": "https://localhost:8080/"
        },
        "id": "FLJoRbI95DWL",
        "outputId": "b13b9136-6c07-4461-dae9-62bd588dc5be"
      },
      "id": "FLJoRbI95DWL",
      "execution_count": 56,
      "outputs": [
        {
          "output_type": "stream",
          "name": "stdout",
          "text": [
            "Ви не повнолітній!\n",
            "Ви не повнолітній!\n",
            "Ви повнолітній.\n"
          ]
        },
        {
          "output_type": "execute_result",
          "data": {
            "text/plain": [
              "[False, False, True]"
            ]
          },
          "metadata": {},
          "execution_count": 56
        }
      ]
    },
    {
      "cell_type": "markdown",
      "source": [
        "3. **Обчислення середнього з перевіркою:** Напишіть функцію `calculate_average`, яка приймає на вхід список чисел і обчислює середнє арифметичне значення цих чисел. Функція повинна перевіряти, що всі елементи списку є числами. Якщо серед елементів списку зустрічається елемент, який не є числом, функція повинна вивести повідомлення `\"Всі елементи повинні бути числами\"` і повернути `None`.\n",
        "\n",
        "**Приклади виклику функції:**\n",
        "\n",
        "- `calculate_average([1, 2, 3, 4, 5])` повинно повернути `3.0`.\n",
        "- `calculate_average([1, \"2\", 3])` повинно повернути `None` і вивести `\"Всі елементи повинні бути числами\"`.\n",
        "- `calculate_average([-1.1, \"ф\", 4])` повинно повернути `None` і вивести `\"Всі елементи повинні бути числами\"`."
      ],
      "metadata": {
        "id": "CQg-zIJGTqjw"
      },
      "id": "CQg-zIJGTqjw"
    },
    {
      "cell_type": "code",
      "source": [
        "def calculate_average(data):\n",
        "  try:\n",
        "    if not all((type(i) == int or type(i) == float) for i in data):\n",
        "      raise ValueError ('Всі елементи повинні бути числами')\n",
        "      return None\n",
        "    else:\n",
        "      avarage =  sum(data) / len(data)\n",
        "      return avarage\n",
        "  except ValueError as e:\n",
        "       print(e)\n",
        "       return None"
      ],
      "metadata": {
        "id": "e1cDhpcq_U3l"
      },
      "id": "e1cDhpcq_U3l",
      "execution_count": 53,
      "outputs": []
    },
    {
      "cell_type": "markdown",
      "source": [
        "Продемонструйте результати робити функції запустивши код нижче."
      ],
      "metadata": {
        "id": "ib-JWKKmUeF8"
      },
      "id": "ib-JWKKmUeF8"
    },
    {
      "cell_type": "code",
      "source": [
        "test_data = [\n",
        "    [1, 2, 3, 4, 5],  # Коректні дані\n",
        "    [1, '2', 3],      # Некоректні дані\n",
        "    [10, 20, 30],     # Коректні дані\n",
        "    [-1.1, 'ф', 4]    # Некоректні дані\n",
        "]\n",
        "\n",
        "results = [calculate_average(data) for data in test_data]\n",
        "results"
      ],
      "metadata": {
        "id": "axEmZx0rUNqT",
        "colab": {
          "base_uri": "https://localhost:8080/"
        },
        "outputId": "2278164a-065b-4376-f249-197e35a3e9fe"
      },
      "execution_count": 54,
      "outputs": [
        {
          "output_type": "stream",
          "name": "stdout",
          "text": [
            "Всі елементи повинні бути числами\n",
            "Всі елементи повинні бути числами\n"
          ]
        },
        {
          "output_type": "execute_result",
          "data": {
            "text/plain": [
              "[3.0, None, 20.0, None]"
            ]
          },
          "metadata": {},
          "execution_count": 54
        }
      ],
      "id": "axEmZx0rUNqT"
    }
  ],
  "metadata": {
    "kernelspec": {
      "display_name": "Python 3 (ipykernel)",
      "language": "python",
      "name": "python3"
    },
    "language_info": {
      "codemirror_mode": {
        "name": "ipython",
        "version": 3
      },
      "file_extension": ".py",
      "mimetype": "text/x-python",
      "name": "python",
      "nbconvert_exporter": "python",
      "pygments_lexer": "ipython3",
      "version": "3.10.4"
    },
    "toc": {
      "base_numbering": 1,
      "nav_menu": {},
      "number_sections": true,
      "sideBar": true,
      "skip_h1_title": false,
      "title_cell": "Table of Contents",
      "title_sidebar": "Contents",
      "toc_cell": false,
      "toc_position": {},
      "toc_section_display": true,
      "toc_window_display": false
    },
    "colab": {
      "provenance": [],
      "include_colab_link": true
    }
  },
  "nbformat": 4,
  "nbformat_minor": 5
}