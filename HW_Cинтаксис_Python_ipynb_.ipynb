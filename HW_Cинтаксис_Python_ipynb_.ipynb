{
  "nbformat": 4,
  "nbformat_minor": 0,
  "metadata": {
    "colab": {
      "provenance": []
    },
    "kernelspec": {
      "name": "python3",
      "display_name": "Python 3"
    },
    "language_info": {
      "name": "python"
    }
  },
  "cells": [
    {
      "cell_type": "markdown",
      "source": [
        "#Домашнє завдання до теми \"Синтаксис Python\"\n",
        "\n",
        "В ДЗ першого модулю важливою умовою виконання завдань є те, що ми не імпортуємо жодних бібліотек, а робимо все на чистому Python, використовуючи лише базовий функціонал. Це необхідно аби відпрацювати роботу з базовими типами даних. А використовувати бібліотеки ми ще навчимось далі :)"
      ],
      "metadata": {
        "id": "tvPKWXfD7yRv"
      }
    },
    {
      "cell_type": "markdown",
      "source": [
        "1. Створіть змінну, яка буде зберігати кількість яблук. І надайте їй значення 5. Виведіть значення змінної на екран."
      ],
      "metadata": {
        "id": "xE1KHmUbQVbC"
      }
    },
    {
      "cell_type": "code",
      "source": [
        "qty_apple=5"
      ],
      "metadata": {
        "id": "iz5QpN-vQUtN"
      },
      "execution_count": 2,
      "outputs": []
    },
    {
      "cell_type": "markdown",
      "source": [
        "2. Виведіть тип змінної, створеної в завданні (1)."
      ],
      "metadata": {
        "id": "wx6RsBHAQd9q"
      }
    },
    {
      "cell_type": "code",
      "source": [
        "type (qty_apple)"
      ],
      "metadata": {
        "id": "f48l2PhiQi86",
        "colab": {
          "base_uri": "https://localhost:8080/"
        },
        "outputId": "a6afac16-c58b-4c4c-f9e6-af082240012a"
      },
      "execution_count": 3,
      "outputs": [
        {
          "output_type": "execute_result",
          "data": {
            "text/plain": [
              "int"
            ]
          },
          "metadata": {},
          "execution_count": 3
        }
      ]
    },
    {
      "cell_type": "markdown",
      "source": [
        "3. Додайте до значення змінної, створеної в завданні (1) число `12` і виведіть результат на екран з допомогою команди `print()`."
      ],
      "metadata": {
        "id": "UEc59pPcQnva"
      }
    },
    {
      "cell_type": "code",
      "source": [
        "qty_apple=qty_apple+12\n",
        "print(qty_apple)"
      ],
      "metadata": {
        "id": "gu-vkERpQoCY",
        "colab": {
          "base_uri": "https://localhost:8080/"
        },
        "outputId": "31cc5c71-cc24-422d-fbd7-c508386b0ac3"
      },
      "execution_count": 7,
      "outputs": [
        {
          "output_type": "stream",
          "name": "stdout",
          "text": [
            "17\n"
          ]
        }
      ]
    },
    {
      "cell_type": "markdown",
      "source": [
        "4. Запустіть код нижче аби створити дві змінні."
      ],
      "metadata": {
        "id": "yOztaNuqqcMy"
      }
    },
    {
      "cell_type": "code",
      "source": [
        "a = 48\n",
        "b = 3"
      ],
      "metadata": {
        "id": "kbXeQSgcqncV"
      },
      "execution_count": 6,
      "outputs": []
    },
    {
      "cell_type": "markdown",
      "source": [
        "Створіть нову клітинку нижче цієї з допомогою натискання англійської літери `B`, коли ви НЕ в режимі редагування клітинки. В створеній клітинці створіть змінну `c`, яка буде містити результат ділення `a` на `b`."
      ],
      "metadata": {
        "id": "9ojIRMw3qvw8"
      }
    },
    {
      "cell_type": "code",
      "source": [
        "c=a/b"
      ],
      "metadata": {
        "id": "n-H5RTRpOq0t"
      },
      "execution_count": 9,
      "outputs": []
    },
    {
      "cell_type": "code",
      "source": [
        "display(a,b,c)\n",
        "type(a), type(b),type(c)"
      ],
      "metadata": {
        "colab": {
          "base_uri": "https://localhost:8080/",
          "height": 88
        },
        "id": "Jej5JO--OxCw",
        "outputId": "03a8d633-2918-486a-d50f-5e677ab11c43"
      },
      "execution_count": 14,
      "outputs": [
        {
          "output_type": "display_data",
          "data": {
            "text/plain": [
              "48"
            ]
          },
          "metadata": {}
        },
        {
          "output_type": "display_data",
          "data": {
            "text/plain": [
              "3"
            ]
          },
          "metadata": {}
        },
        {
          "output_type": "display_data",
          "data": {
            "text/plain": [
              "16.0"
            ]
          },
          "metadata": {}
        },
        {
          "output_type": "execute_result",
          "data": {
            "text/plain": [
              "(int, int, float)"
            ]
          },
          "metadata": {},
          "execution_count": 14
        }
      ]
    },
    {
      "cell_type": "markdown",
      "source": [
        "Створіть ще одну нову клітинку, тільки тепер вище цієї. Для цього натисніть  англійську літеру `A`, коли ви НЕ в режимі редагування клітинки. Виведіть в новоствореній клітинці значення і тип кожної зі змінних `a`, `b`, `c`. Проаналізуйте результат.\n"
      ],
      "metadata": {
        "id": "XcmIZ24wq4px"
      }
    },
    {
      "cell_type": "markdown",
      "source": [
        "У Python, коли ви ділите одне ціле число на інше, результат буде автоматично приведений до типу float, якщо він не є цілим числом. Це робиться для того, щоб забезпечити більш точний результат ділення, особливо коли результат міг би бути десятковим числом."
      ],
      "metadata": {
        "id": "v9rj7B4-sGaG"
      }
    },
    {
      "cell_type": "markdown",
      "source": [
        "5. Перегляньте наступний код, подумайте, що він виведе в результаті, та потім, запустіть його."
      ],
      "metadata": {
        "id": "irjcdM8puaEx"
      }
    },
    {
      "cell_type": "code",
      "source": [
        "a = 10\n",
        "a = 12\n",
        "a = 15\n",
        "\n",
        "b = 4\n",
        "b = 8\n",
        "b = 14\n",
        "\n",
        "c = 3\n",
        "c = 6\n",
        "c = 9\n",
        "\n",
        "\n",
        "a + b + c"
      ],
      "metadata": {
        "id": "KmhCY0ttt8rW",
        "colab": {
          "base_uri": "https://localhost:8080/"
        },
        "outputId": "b62e39e5-5fa4-46ae-dd68-5139ecc94fe9"
      },
      "execution_count": 15,
      "outputs": [
        {
          "output_type": "execute_result",
          "data": {
            "text/plain": [
              "38"
            ]
          },
          "metadata": {},
          "execution_count": 15
        }
      ]
    },
    {
      "cell_type": "markdown",
      "source": [
        "В клітинці нижче закоментуйте деякі рядки так, аби в результаті виконання останнього рядка коду (`a + b + c`) вивелось `17`.\n",
        "Увага! Рядки треба саме закоментувати, а не видалити.\n",
        "Можна зручно коментувати рядки з допомогою комбінації клавіш `Ctrl + /` (`Command + /` для Mac)"
      ],
      "metadata": {
        "id": "JrUTyGyQufwq"
      }
    },
    {
      "cell_type": "code",
      "source": [
        "a = 10\n",
        "# a = 12\n",
        "# a = 15\n",
        "\n",
        "b = 4\n",
        "# b = 8\n",
        "# b = 14\n",
        "\n",
        "c = 3\n",
        "# c = 6\n",
        "# c = 9\n",
        "\n",
        "\n",
        "a + b + c"
      ],
      "metadata": {
        "id": "R4VXgSQKwVoc",
        "colab": {
          "base_uri": "https://localhost:8080/"
        },
        "outputId": "42958485-f1b0-48ea-9539-4dbd8118b4b7"
      },
      "execution_count": 16,
      "outputs": [
        {
          "output_type": "execute_result",
          "data": {
            "text/plain": [
              "17"
            ]
          },
          "metadata": {},
          "execution_count": 16
        }
      ]
    }
  ]
}