{
  "cells": [
    {
      "cell_type": "markdown",
      "metadata": {
        "id": "view-in-github",
        "colab_type": "text"
      },
      "source": [
        "<a href=\"https://colab.research.google.com/github/YuliiaUtkina/Git_modul_pyhton/blob/main/%D0%94%D0%BE%D0%BC%D0%B0%D1%88%D0%BD%D1%94_%D0%B7%D0%B0%D0%B2%D0%B4%D0%B0%D0%BD%D0%BD%D1%8F_%E2%84%963_Python_%2B_SQL.ipynb\" target=\"_parent\"><img src=\"https://colab.research.google.com/assets/colab-badge.svg\" alt=\"Open In Colab\"/></a>"
      ]
    },
    {
      "cell_type": "markdown",
      "id": "2153041f",
      "metadata": {
        "id": "2153041f"
      },
      "source": [
        "# Завдання на використання SQL в Python"
      ]
    },
    {
      "cell_type": "markdown",
      "id": "2c1af6e1",
      "metadata": {
        "ExecuteTime": {
          "end_time": "2022-11-27T18:04:46.316592Z",
          "start_time": "2022-11-27T18:04:46.302021Z"
        },
        "id": "2c1af6e1"
      },
      "source": [
        "1.Встановіть бібліотеку `mysql-connector-python` через pip aбо через conda."
      ]
    },
    {
      "cell_type": "code",
      "execution_count": 2,
      "id": "a8fcd64e",
      "metadata": {
        "id": "a8fcd64e",
        "colab": {
          "base_uri": "https://localhost:8080/"
        },
        "outputId": "c4837f0f-8e2d-4530-8be6-01bed165b71f"
      },
      "outputs": [
        {
          "output_type": "stream",
          "name": "stdout",
          "text": [
            "Collecting mysql-connector-python\n",
            "  Downloading mysql_connector_python-8.4.0-cp310-cp310-manylinux_2_17_x86_64.whl (19.4 MB)\n",
            "\u001b[2K     \u001b[90m━━━━━━━━━━━━━━━━━━━━━━━━━━━━━━━━━━━━━━━━\u001b[0m \u001b[32m19.4/19.4 MB\u001b[0m \u001b[31m21.9 MB/s\u001b[0m eta \u001b[36m0:00:00\u001b[0m\n",
            "\u001b[?25hInstalling collected packages: mysql-connector-python\n",
            "Successfully installed mysql-connector-python-8.4.0\n"
          ]
        }
      ],
      "source": [
        "!pip install mysql-connector-python"
      ]
    },
    {
      "cell_type": "markdown",
      "source": [
        "! conda list | grep mysql-connector-python"
      ],
      "metadata": {
        "id": "VDFJ9oUTdKPt"
      },
      "id": "VDFJ9oUTdKPt"
    },
    {
      "cell_type": "markdown",
      "id": "eec5551e",
      "metadata": {
        "pycharm": {
          "name": "#%% md\n"
        },
        "id": "eec5551e"
      },
      "source": [
        "2.В змінній `con` створіть підключення до бази даних employees за аналогією того, як це робилось в лекції:"
      ]
    },
    {
      "cell_type": "code",
      "source": [
        "import mysql.connector\n",
        "from mysql.connector.connection import MySQLConnection\n",
        "import datetime"
      ],
      "metadata": {
        "id": "xy8YIM5be591"
      },
      "id": "xy8YIM5be591",
      "execution_count": 3,
      "outputs": []
    },
    {
      "cell_type": "code",
      "execution_count": 4,
      "id": "e3fff0d8",
      "metadata": {
        "id": "e3fff0d8"
      },
      "outputs": [],
      "source": [
        "con = mysql.connector.connect(user='user1',password='7oygWy6P',\n",
        "                              host='3.68.62.36',\n",
        "                              database='employees')"
      ]
    },
    {
      "cell_type": "code",
      "source": [
        "dir(cursor)"
      ],
      "metadata": {
        "colab": {
          "base_uri": "https://localhost:8080/"
        },
        "collapsed": true,
        "id": "LBrZyjGYjP9q",
        "outputId": "19c8709f-b571-4259-d0e9-6049522e2257"
      },
      "id": "LBrZyjGYjP9q",
      "execution_count": 8,
      "outputs": [
        {
          "output_type": "execute_result",
          "data": {
            "text/plain": [
              "['__abstractmethods__',\n",
              " '__annotations__',\n",
              " '__class__',\n",
              " '__delattr__',\n",
              " '__dict__',\n",
              " '__dir__',\n",
              " '__doc__',\n",
              " '__enter__',\n",
              " '__eq__',\n",
              " '__exit__',\n",
              " '__format__',\n",
              " '__ge__',\n",
              " '__getattribute__',\n",
              " '__gt__',\n",
              " '__hash__',\n",
              " '__init__',\n",
              " '__init_subclass__',\n",
              " '__iter__',\n",
              " '__le__',\n",
              " '__lt__',\n",
              " '__module__',\n",
              " '__ne__',\n",
              " '__new__',\n",
              " '__next__',\n",
              " '__reduce__',\n",
              " '__reduce_ex__',\n",
              " '__repr__',\n",
              " '__setattr__',\n",
              " '__sizeof__',\n",
              " '__slots__',\n",
              " '__str__',\n",
              " '__subclasshook__',\n",
              " '__weakref__',\n",
              " '_abc_impl',\n",
              " '_affected_rows',\n",
              " '_batch_insert',\n",
              " '_buffered',\n",
              " '_check_executed',\n",
              " '_cnx',\n",
              " '_description',\n",
              " '_execute_iter',\n",
              " '_executed',\n",
              " '_executed_list',\n",
              " '_fetch_warnings',\n",
              " '_handle_eof',\n",
              " '_handle_result',\n",
              " '_handle_resultset',\n",
              " '_handle_warnings',\n",
              " '_last_insert_id',\n",
              " '_nextrow',\n",
              " '_raw',\n",
              " '_raw_as_string',\n",
              " '_rowcount',\n",
              " '_stored_results',\n",
              " '_warning_count',\n",
              " '_warnings',\n",
              " 'add_attribute',\n",
              " 'arraysize',\n",
              " 'callproc',\n",
              " 'clear_attributes',\n",
              " 'close',\n",
              " 'column_names',\n",
              " 'description',\n",
              " 'execute',\n",
              " 'executemany',\n",
              " 'fetchall',\n",
              " 'fetchmany',\n",
              " 'fetchone',\n",
              " 'fetchwarnings',\n",
              " 'get_attributes',\n",
              " 'lastrowid',\n",
              " 'nextset',\n",
              " 'remove_attribute',\n",
              " 'reset',\n",
              " 'rowcount',\n",
              " 'setinputsizes',\n",
              " 'setoutputsize',\n",
              " 'statement',\n",
              " 'stored_results',\n",
              " 'warning_count',\n",
              " 'warnings',\n",
              " 'with_rows']"
            ]
          },
          "metadata": {},
          "execution_count": 8
        }
      ]
    },
    {
      "cell_type": "code",
      "source": [
        "cursor = con.cursor()\n",
        "query = \"\"\"\n",
        "SELECT max(hire_date) as max_date, min(hire_date) as min_date\n",
        "FROM employees\n",
        "\"\"\"\n",
        "cursor.execute(query)\n",
        "result = cursor.fetchall()\n",
        "print(result)\n"
      ],
      "metadata": {
        "colab": {
          "base_uri": "https://localhost:8080/"
        },
        "id": "14RVGpGofVUG",
        "outputId": "6cbca42f-dc48-4521-c372-44b6cc4f58fc"
      },
      "id": "14RVGpGofVUG",
      "execution_count": 5,
      "outputs": [
        {
          "output_type": "stream",
          "name": "stdout",
          "text": [
            "[(datetime.date(2000, 1, 28), datetime.date(1985, 1, 1))]\n"
          ]
        }
      ]
    },
    {
      "cell_type": "markdown",
      "id": "8b17a588",
      "metadata": {
        "ExecuteTime": {
          "end_time": "2022-01-26T22:23:01.406330Z",
          "start_time": "2022-01-26T22:23:01.403942Z"
        },
        "pycharm": {
          "name": "#%% md\n"
        },
        "id": "8b17a588"
      },
      "source": [
        "3.Виберіть максимальну і мінімальну дати найму співробітників використовуючи `con.cursor()`. Аби отримати результати в кінці, виконайте `cursor.fetchall()`."
      ]
    },
    {
      "cell_type": "code",
      "execution_count": null,
      "id": "2d9785de",
      "metadata": {
        "id": "2d9785de"
      },
      "outputs": [],
      "source": []
    },
    {
      "cell_type": "markdown",
      "id": "955dd2fa",
      "metadata": {
        "ExecuteTime": {
          "end_time": "2022-11-27T18:11:33.491134Z",
          "start_time": "2022-11-27T18:11:33.486973Z"
        },
        "id": "955dd2fa"
      },
      "source": [
        "Очікуваний результат:  \n",
        "    `[(datetime.date(2000, 1, 28), datetime.date(1985, 1, 1))]`"
      ]
    },
    {
      "cell_type": "markdown",
      "id": "1d9c214d",
      "metadata": {
        "ExecuteTime": {
          "end_time": "2023-07-14T15:52:49.876166Z",
          "start_time": "2023-07-14T15:52:49.855548Z"
        },
        "id": "1d9c214d"
      },
      "source": [
        "4.Давайте зберемо інформацію про останню ЗП кожного співробіткника в базі. З використанням `con.cursor()` виберіть з таблиці `salaries` для кожного співробітника його номер, останню в базі даних (тобто ту, що відповідає найновішій `to_date`) ЗП, та значення `from_date`, `to_date` для цієї ЗП.\n",
        "\n",
        "Результати запишіть у pandas DataFrame, який збережіть у змінну `res`. Як взяти з курсора назви колонок - вже наведено. На екран виведіть назви колонок в змінній `res`, розмір цього датафрейму та перші 3 записи в ньому.\n",
        "\n",
        "УВАГА! Зверніть увагу, що ЗП може оновлюватись протягом одного дня, тобто є випадки, коли апдейт ЗП був в певний день, скажімо 2001-01-01 і потім стався ще один апдейт ЗП цьому співробітнику цього самого дня. Запит має це враховувати.\n",
        "Також, теоретично ЗП може бути зменшена. Тож, брати дату з максимальною ЗП буде неправильно з точки зору бізнес логіки. Треба саме останнє історичне значення ЗП кожного співробітника."
      ]
    },
    {
      "cell_type": "code",
      "execution_count": 6,
      "id": "f326ba43",
      "metadata": {
        "id": "f326ba43"
      },
      "outputs": [],
      "source": [
        "import pandas as pd\n",
        "\n",
        "query = \"\"\"\n",
        "SELECT emp_no, salary, from_date, to_date\n",
        "FROM salaries\n",
        "WHERE (emp_no, to_date) IN (\n",
        "    SELECT emp_no, MAX(to_date)\n",
        "    FROM salaries\n",
        "    GROUP BY emp_no\n",
        ")\n",
        "ORDER BY emp_no;\n",
        "\"\"\"\n",
        "cursor.execute(query)\n",
        "result = cursor.fetchall()\n",
        "res = pd.DataFrame(result, columns=[desc[0] for desc in cursor.description])"
      ]
    },
    {
      "cell_type": "code",
      "execution_count": 7,
      "id": "bf5eb14d",
      "metadata": {
        "ExecuteTime": {
          "end_time": "2023-07-14T16:14:15.617144Z",
          "start_time": "2023-07-14T16:14:15.611369Z"
        },
        "id": "bf5eb14d"
      },
      "outputs": [],
      "source": [
        "field_names = [i[0] for i in cursor.description]"
      ]
    },
    {
      "cell_type": "code",
      "source": [
        "print(res.columns)\n",
        "print(\"Розмір DataFrame\", res.shape)\n",
        "print(res.head(3))"
      ],
      "metadata": {
        "colab": {
          "base_uri": "https://localhost:8080/"
        },
        "id": "94_zmAtlm4QQ",
        "outputId": "ba8a8200-1a20-4cbf-b5b2-2ab5289cf1ea"
      },
      "id": "94_zmAtlm4QQ",
      "execution_count": 8,
      "outputs": [
        {
          "output_type": "stream",
          "name": "stdout",
          "text": [
            "Index(['emp_no', 'salary', 'from_date', 'to_date'], dtype='object')\n",
            "Розмір DataFrame (300180, 4)\n",
            "   emp_no  salary   from_date     to_date\n",
            "0   10001   88958  2002-06-22  9999-01-01\n",
            "1   10002   72527  2001-08-02  9999-01-01\n",
            "2   10003   43311  2001-12-01  9999-01-01\n"
          ]
        }
      ]
    },
    {
      "cell_type": "markdown",
      "id": "fb5676cb",
      "metadata": {
        "id": "fb5676cb"
      },
      "source": [
        "Очікуваний результат:\n",
        "\n",
        "![](https://drive.google.com/uc?export=view&id=1lNvzbAebtkj3C2v-I5AE6HkMH8MTI1kA)"
      ]
    },
    {
      "cell_type": "markdown",
      "id": "e5770b56",
      "metadata": {
        "ExecuteTime": {
          "end_time": "2023-07-14T16:17:31.638485Z",
          "start_time": "2023-07-14T16:17:31.632827Z"
        },
        "id": "e5770b56"
      },
      "source": [
        "5.В утвореній вибірці в змінній `res` скільки значень `to_date` рівні `9999-01-01`, а скільки - ні? Увага! Для виконання цього завдання важливо розуміти, який тип даних у значень колонки `to_date`. Зʼясуйте це, і потім напишіть фільтр для виводу потрібного результату."
      ]
    },
    {
      "cell_type": "code",
      "execution_count": 12,
      "id": "8a9dc7e5",
      "metadata": {
        "id": "8a9dc7e5",
        "colab": {
          "base_uri": "https://localhost:8080/"
        },
        "outputId": "cd99ad66-c062-47f5-d707-8d30c26a6a52"
      },
      "outputs": [
        {
          "output_type": "stream",
          "name": "stdout",
          "text": [
            "object\n"
          ]
        }
      ],
      "source": [
        "print(res['to_date'].dtype)\n"
      ]
    },
    {
      "cell_type": "code",
      "source": [
        "print(res['to_date'].apply(type).unique())"
      ],
      "metadata": {
        "colab": {
          "base_uri": "https://localhost:8080/"
        },
        "id": "NcPbYe9vfqb7",
        "outputId": "ef25b92c-db76-49cb-d076-30291162443f"
      },
      "id": "NcPbYe9vfqb7",
      "execution_count": 19,
      "outputs": [
        {
          "output_type": "stream",
          "name": "stdout",
          "text": [
            "[<class 'datetime.date'>]\n"
          ]
        }
      ]
    },
    {
      "cell_type": "code",
      "source": [
        "future_date = datetime.date(9999, 1, 1)\n",
        "# Підрахунок кількості значень, які дорівнюють '9999-01-01'\n",
        "count_future_date = (res['to_date'] == future_date).sum()\n",
        "\n",
        "# Підрахунок кількості значень, які не дорівнюють '9999-01-01'\n",
        "count_other_date = (res['to_date'] != future_date).sum()"
      ],
      "metadata": {
        "id": "XmJOEn0jcdF2"
      },
      "id": "XmJOEn0jcdF2",
      "execution_count": 15,
      "outputs": []
    },
    {
      "cell_type": "code",
      "source": [
        "print(f\"Кількість співробітників з 'to_date' рівним '9999-01-01': {count_future_date}\")\n",
        "print(f\"Кількість співробітників з 'to_date' не рівним '9999-01-01': {count_other_date}\")"
      ],
      "metadata": {
        "colab": {
          "base_uri": "https://localhost:8080/"
        },
        "id": "ZKWSrmFfcsKu",
        "outputId": "cdb9452f-d436-44be-e700-e983a97c0e66"
      },
      "id": "ZKWSrmFfcsKu",
      "execution_count": 16,
      "outputs": [
        {
          "output_type": "stream",
          "name": "stdout",
          "text": [
            "Кількість співробітників з 'to_date' рівним '9999-01-01': 240124\n",
            "Кількість співробітників з 'to_date' не рівним '9999-01-01': 60056\n"
          ]
        }
      ]
    },
    {
      "cell_type": "markdown",
      "id": "ae22c37a",
      "metadata": {
        "id": "ae22c37a"
      },
      "source": [
        "6.Виведіть візуально розподіл (гістограму) зарплат співробітників, які досі працюють в компанії, використовуючи результат попереднього завдання. Співробітниками, які досі працюють в компанії вважаємо тих, в кого to_date має значення 9999-01-01. Обовʼязково підпишіть графік і вісі.\n",
        "\n",
        "Ці три завдання - приклад, як нам може бути зручно витягнути дані з бази певним запитом, а потім використати витягнуту вибірку у Python для подальшого аналізу."
      ]
    },
    {
      "cell_type": "code",
      "source": [
        "import datetime\n",
        "import matplotlib.pyplot as plt\n",
        "\n",
        "current_employees = res[res['to_date'] == future_date]\n",
        "\n",
        "# Візуалізація\n",
        "plt.figure(figsize=(10, 6))\n",
        "plt.hist(current_employees['salary'], bins=30, color='blue', edgecolor='black')\n",
        "plt.title('Розподіл поточних зарплат в компанії')\n",
        "plt.xlabel('Розмір ЗП')\n",
        "plt.ylabel('Кількість співробітників')\n",
        "plt.grid(True)\n",
        "plt.show()\n"
      ],
      "metadata": {
        "colab": {
          "base_uri": "https://localhost:8080/",
          "height": 564
        },
        "id": "ugMGB_DoFkjR",
        "outputId": "be6e0957-b066-4b0c-b717-b78293f8b918"
      },
      "id": "ugMGB_DoFkjR",
      "execution_count": 26,
      "outputs": [
        {
          "output_type": "display_data",
          "data": {
            "text/plain": [
              "<Figure size 1000x600 with 1 Axes>"
            ],
            "image/png": "[encoded data removed]"
          },
          "metadata": {}
        }
      ]
    },
    {
      "cell_type": "markdown",
      "source": [
        "Очікуваний результат:\n",
        "\n",
        "![](https://drive.google.com/uc?export=view&id=1j8MHLC1E0revbQLM9B0UJs6tVEgoWhmK)"
      ],
      "metadata": {
        "id": "AL26SP3WMJiX"
      },
      "id": "AL26SP3WMJiX"
    },
    {
      "cell_type": "markdown",
      "source": [
        "НЕ ЗАБУВАЄМО ЗАКРИТИ ПІДКЛЮЧЕННЯ ДО БАЗИ :)"
      ],
      "metadata": {
        "id": "Cp_JpGPpKmzp"
      },
      "id": "Cp_JpGPpKmzp"
    },
    {
      "cell_type": "code",
      "source": [],
      "metadata": {
        "id": "UIPRvyguA0Xr"
      },
      "id": "UIPRvyguA0Xr",
      "execution_count": null,
      "outputs": []
    },
    {
      "cell_type": "code",
      "source": [
        "con.close()"
      ],
      "metadata": {
        "id": "WEMo9bl6KnMh"
      },
      "id": "WEMo9bl6KnMh",
      "execution_count": 28,
      "outputs": []
    }
  ],
  "metadata": {
    "kernelspec": {
      "display_name": "Python 3 (ipykernel)",
      "language": "python",
      "name": "python3"
    },
    "language_info": {
      "codemirror_mode": {
        "name": "ipython",
        "version": 3
      },
      "file_extension": ".py",
      "mimetype": "text/x-python",
      "name": "python",
      "nbconvert_exporter": "python",
      "pygments_lexer": "ipython3",
      "version": "3.10.4"
    },
    "toc": {
      "base_numbering": 1,
      "nav_menu": {},
      "number_sections": true,
      "sideBar": true,
      "skip_h1_title": false,
      "title_cell": "Table of Contents",
      "title_sidebar": "Contents",
      "toc_cell": false,
      "toc_position": {},
      "toc_section_display": true,
      "toc_window_display": false
    },
    "vscode": {
      "interpreter": {
        "hash": "a6511e6b41b26ba86cca7483749cf4dd15bf137a2672e550741a656e19bba82e"
      }
    },
    "colab": {
      "provenance": [],
      "include_colab_link": true
    }
  },
  "nbformat": 4,
  "nbformat_minor": 5
}